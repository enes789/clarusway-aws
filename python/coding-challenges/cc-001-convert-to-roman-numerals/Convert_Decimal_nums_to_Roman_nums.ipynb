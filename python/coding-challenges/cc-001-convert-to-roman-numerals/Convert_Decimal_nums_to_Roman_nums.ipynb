{
  "nbformat": 4,
  "nbformat_minor": 0,
  "metadata": {
    "colab": {
      "name": "Convert_Decimal_nums_to_Roman_nums",
      "provenance": [],
      "collapsed_sections": [],
      "authorship_tag": "ABX9TyOBJmon0NpOB0aWrua87BLt",
      "include_colab_link": true
    },
    "kernelspec": {
      "name": "python3",
      "display_name": "Python 3"
    }
  },
  "cells": [
    {
      "cell_type": "markdown",
      "metadata": {
        "id": "view-in-github",
        "colab_type": "text"
      },
      "source": [
        "<a href=\"https://colab.research.google.com/github/enes789/Python/blob/main/Convert_Decimal_nums_to_Roman_nums.ipynb\" target=\"_parent\"><img src=\"https://colab.research.google.com/assets/colab-badge.svg\" alt=\"Open In Colab\"/></a>"
      ]
    },
    {
      "cell_type": "code",
      "metadata": {
        "colab": {
          "base_uri": "https://localhost:8080/"
        },
        "id": "zWaQRRaj3cf-",
        "outputId": "0ea4e235-80af-46c8-9a16-1993add107b1"
      },
      "source": [
        "number = input(\"\"\" ###  This program converts decimal numbers to Roman Numerals ### \\n(To exit the program, please type \"exit\") \\nPlease enter a number between 1 and 3999, inclusively : \"\"\")\n",
        "my_dict = {1 : \"I\", 2 : \"II\", 3 : \"III\", 4 : \"IV\", 5 : \"V\", 6 : \"VI\", 7 : \"VII\", 8 : \"VIII\", 9 : \"IX\", 10 : \"X\",\n",
        "           20 : \"XX\", 30 : \"XXX\", 40 : \"XL\", 50 : \"L\", 60 : \"LI\", 70 : \"LII\", 80 : \"LII\", 90 : \"XC\", 100 : \"C\",\n",
        "           200 : \"CC\", 300 : \"CCC\", 400 : \"CD\", 500 : \"D\", 600 : \"DC\", 700 : \"DCC\", 800 : \"DCCC\", 900 : \"CM\", 1000 : \"M\",\n",
        "           2000 : \"MM\", 3000 : \"MMM\"}   \n",
        "\n",
        "while number != \"exit\":\n",
        "    if number.isdecimal():\n",
        "        num = int(number)\n",
        "        if num > 0 and num < 4000:\n",
        "            if num in my_dict.keys():\n",
        "                print(my_dict[num])\n",
        "\n",
        "            elif num > 10 and num < 100:    \n",
        "                n = num % 10\n",
        "                x = (num // 10) * 10 \n",
        "                print(my_dict[x] + my_dict[n])\n",
        "\n",
        "            elif num > 100 and num < 1000:\n",
        "                n = num % 10\n",
        "                x = ((num % 100) // 10) * 10\n",
        "                y = (num // 100) * 100\n",
        "                print(my_dict[y] + my_dict[x] + my_dict[n])\n",
        "                \n",
        "            else:\n",
        "                n = num % 10\n",
        "                x = ((num % 100) // 10) * 10\n",
        "                y = ((num % 1000) // 100) * 100\n",
        "                z = (num // 1000) * 1000\n",
        "                print(my_dict[z] + my_dict[y] + my_dict[x] + my_dict[n])\n",
        "            \n",
        "        else:\n",
        "            print(\"Not Valid Input !!!\")\n",
        "    else:\n",
        "        print(\"Not Valid Input !!!\")\n",
        "        \n",
        "    number = input(\"\"\" ###  This program converts decimal numbers to Roman Numerals ### \\n(To exit the program, please type \"exit\") \\nPlease enter a number between 1 and 3999, inclusively : \"\"\")\n",
        "    if number == exit:\n",
        "        break   \n",
        "\n",
        "\n"
      ],
      "execution_count": 2,
      "outputs": [
        {
          "output_type": "stream",
          "text": [
            " ###  This program converts decimal numbers to Roman Numerals ### \n",
            "(To exit the program, please type \"exit\") \n",
            "Please enter a number between 1 and 3999, inclusively : 2578\n",
            "MMDLIIVIII\n",
            " ###  This program converts decimal numbers to Roman Numerals ### \n",
            "(To exit the program, please type \"exit\") \n",
            "Please enter a number between 1 and 3999, inclusively : exit\n"
          ],
          "name": "stdout"
        }
      ]
    }
  ]
}